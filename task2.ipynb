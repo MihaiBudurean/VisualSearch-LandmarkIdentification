{
  "cells": [
    {
      "cell_type": "markdown",
      "id": "77fbfb5f",
      "metadata": {
        "id": "77fbfb5f"
      },
      "source": [
        "# **Task 2: Custom CNN**"
      ]
    },
    {
      "cell_type": "code",
      "execution_count": 1,
      "id": "c8tu19o4SYTQ",
      "metadata": {
        "colab": {
          "base_uri": "https://localhost:8080/"
        },
        "id": "c8tu19o4SYTQ",
        "outputId": "a551a480-e7c4-4529-bbfa-6986995b2ad6"
      },
      "outputs": [
        {
          "name": "stdout",
          "output_type": "stream",
          "text": [
            "Requirement already satisfied: pytorch-metric-learning in /usr/local/lib/python3.11/dist-packages (2.8.1)\n",
            "Requirement already satisfied: numpy in /usr/local/lib/python3.11/dist-packages (from pytorch-metric-learning) (2.0.2)\n",
            "Requirement already satisfied: scikit-learn in /usr/local/lib/python3.11/dist-packages (from pytorch-metric-learning) (1.6.1)\n",
            "Requirement already satisfied: torch>=1.6.0 in /usr/local/lib/python3.11/dist-packages (from pytorch-metric-learning) (2.6.0+cu124)\n",
            "Requirement already satisfied: tqdm in /usr/local/lib/python3.11/dist-packages (from pytorch-metric-learning) (4.67.1)\n",
            "Requirement already satisfied: filelock in /usr/local/lib/python3.11/dist-packages (from torch>=1.6.0->pytorch-metric-learning) (3.18.0)\n",
            "Requirement already satisfied: typing-extensions>=4.10.0 in /usr/local/lib/python3.11/dist-packages (from torch>=1.6.0->pytorch-metric-learning) (4.13.2)\n",
            "Requirement already satisfied: networkx in /usr/local/lib/python3.11/dist-packages (from torch>=1.6.0->pytorch-metric-learning) (3.4.2)\n",
            "Requirement already satisfied: jinja2 in /usr/local/lib/python3.11/dist-packages (from torch>=1.6.0->pytorch-metric-learning) (3.1.6)\n",
            "Requirement already satisfied: fsspec in /usr/local/lib/python3.11/dist-packages (from torch>=1.6.0->pytorch-metric-learning) (2025.3.2)\n",
            "Requirement already satisfied: nvidia-cuda-nvrtc-cu12==12.4.127 in /usr/local/lib/python3.11/dist-packages (from torch>=1.6.0->pytorch-metric-learning) (12.4.127)\n",
            "Requirement already satisfied: nvidia-cuda-runtime-cu12==12.4.127 in /usr/local/lib/python3.11/dist-packages (from torch>=1.6.0->pytorch-metric-learning) (12.4.127)\n",
            "Requirement already satisfied: nvidia-cuda-cupti-cu12==12.4.127 in /usr/local/lib/python3.11/dist-packages (from torch>=1.6.0->pytorch-metric-learning) (12.4.127)\n",
            "Requirement already satisfied: nvidia-cudnn-cu12==9.1.0.70 in /usr/local/lib/python3.11/dist-packages (from torch>=1.6.0->pytorch-metric-learning) (9.1.0.70)\n",
            "Requirement already satisfied: nvidia-cublas-cu12==12.4.5.8 in /usr/local/lib/python3.11/dist-packages (from torch>=1.6.0->pytorch-metric-learning) (12.4.5.8)\n",
            "Requirement already satisfied: nvidia-cufft-cu12==11.2.1.3 in /usr/local/lib/python3.11/dist-packages (from torch>=1.6.0->pytorch-metric-learning) (11.2.1.3)\n",
            "Requirement already satisfied: nvidia-curand-cu12==10.3.5.147 in /usr/local/lib/python3.11/dist-packages (from torch>=1.6.0->pytorch-metric-learning) (10.3.5.147)\n",
            "Requirement already satisfied: nvidia-cusolver-cu12==11.6.1.9 in /usr/local/lib/python3.11/dist-packages (from torch>=1.6.0->pytorch-metric-learning) (11.6.1.9)\n",
            "Requirement already satisfied: nvidia-cusparse-cu12==12.3.1.170 in /usr/local/lib/python3.11/dist-packages (from torch>=1.6.0->pytorch-metric-learning) (12.3.1.170)\n",
            "Requirement already satisfied: nvidia-cusparselt-cu12==0.6.2 in /usr/local/lib/python3.11/dist-packages (from torch>=1.6.0->pytorch-metric-learning) (0.6.2)\n",
            "Requirement already satisfied: nvidia-nccl-cu12==2.21.5 in /usr/local/lib/python3.11/dist-packages (from torch>=1.6.0->pytorch-metric-learning) (2.21.5)\n",
            "Requirement already satisfied: nvidia-nvtx-cu12==12.4.127 in /usr/local/lib/python3.11/dist-packages (from torch>=1.6.0->pytorch-metric-learning) (12.4.127)\n",
            "Requirement already satisfied: nvidia-nvjitlink-cu12==12.4.127 in /usr/local/lib/python3.11/dist-packages (from torch>=1.6.0->pytorch-metric-learning) (12.4.127)\n",
            "Requirement already satisfied: triton==3.2.0 in /usr/local/lib/python3.11/dist-packages (from torch>=1.6.0->pytorch-metric-learning) (3.2.0)\n",
            "Requirement already satisfied: sympy==1.13.1 in /usr/local/lib/python3.11/dist-packages (from torch>=1.6.0->pytorch-metric-learning) (1.13.1)\n",
            "Requirement already satisfied: mpmath<1.4,>=1.1.0 in /usr/local/lib/python3.11/dist-packages (from sympy==1.13.1->torch>=1.6.0->pytorch-metric-learning) (1.3.0)\n",
            "Requirement already satisfied: scipy>=1.6.0 in /usr/local/lib/python3.11/dist-packages (from scikit-learn->pytorch-metric-learning) (1.15.2)\n",
            "Requirement already satisfied: joblib>=1.2.0 in /usr/local/lib/python3.11/dist-packages (from scikit-learn->pytorch-metric-learning) (1.4.2)\n",
            "Requirement already satisfied: threadpoolctl>=3.1.0 in /usr/local/lib/python3.11/dist-packages (from scikit-learn->pytorch-metric-learning) (3.6.0)\n",
            "Requirement already satisfied: MarkupSafe>=2.0 in /usr/local/lib/python3.11/dist-packages (from jinja2->torch>=1.6.0->pytorch-metric-learning) (3.0.2)\n"
          ]
        }
      ],
      "source": [
        "!pip install pytorch-metric-learning"
      ]
    },
    {
      "cell_type": "markdown",
      "id": "10fa3c40",
      "metadata": {
        "id": "10fa3c40"
      },
      "source": [
        "**Imports and Drive Mount**"
      ]
    },
    {
      "cell_type": "code",
      "execution_count": null,
      "id": "c1a7f42f",
      "metadata": {
        "id": "c1a7f42f"
      },
      "outputs": [],
      "source": [
        "from google.colab import drive\n",
        "import sys, os\n",
        "\n",
        "import torch\n",
        "import torchvision.transforms as transforms\n",
        "import torch.nn as nn\n",
        "from torch.utils.data import DataLoader\n",
        "from torchvision import transforms\n",
        "\n",
        "from pytorch_metric_learning.losses import TripletMarginLoss, ContrastiveLoss\n",
        "from pytorch_metric_learning.miners import TripletMarginMiner, PairMarginMiner\n",
        "from pytorch_metric_learning.samplers import MPerClassSampler"
      ]
    },
    {
      "cell_type": "code",
      "execution_count": null,
      "id": "8ec3a89c",
      "metadata": {
        "colab": {
          "base_uri": "https://localhost:8080/"
        },
        "id": "8ec3a89c",
        "outputId": "c9e6da88-12c6-44ab-a206-e97b8fa939d7"
      },
      "outputs": [
        {
          "name": "stdout",
          "output_type": "stream",
          "text": [
            "Mounted at /content/drive\n"
          ]
        }
      ],
      "source": [
        "drive.mount('/content/drive', force_remount=True)"
      ]
    },
    {
      "cell_type": "markdown",
      "id": "d762ebdf",
      "metadata": {
        "id": "d762ebdf"
      },
      "source": [
        "**Macros**"
      ]
    },
    {
      "cell_type": "code",
      "execution_count": null,
      "id": "6144bf66",
      "metadata": {
        "id": "6144bf66"
      },
      "outputs": [],
      "source": [
        "# Path to project folder in Drive\n",
        "project_path = \"/content/drive/MyDrive/projectcv2\"\n",
        "sys.path.append(project_path)\n",
        "\n",
        "# Paths to resources\n",
        "image_dir = os.path.join(project_path, \"data\")\n",
        "class_json = os.path.join(image_dir, \"classes.json\")\n",
        "model_path1 = os.path.join(project_path, \"resnet50_metric_triplet.pth\")\n",
        "model_path2 = os.path.join(project_path, \"resnet50_metric_contrastive.pth\")\n",
        "\n",
        "image_size = 224\n",
        "\n",
        "device = \"cuda\" if torch.cuda.is_available() else \"cpu\""
      ]
    },
    {
      "cell_type": "code",
      "execution_count": 5,
      "id": "Ru_MDwxcQPZ_",
      "metadata": {
        "id": "Ru_MDwxcQPZ_"
      },
      "outputs": [],
      "source": [
        "from utils import (\n",
        "    load_dataset,\n",
        "    get_embedding_model,\n",
        "    extract_embeddings,\n",
        "    retrieve_top_k,\n",
        "    evaluate_retrieval,\n",
        "    get_embedding_model,\n",
        "    EmbeddingNet,\n",
        "    train_or_load_model,\n",
        "    set_seed\n",
        ")\n",
        "\n",
        "set_seed(42)"
      ]
    },
    {
      "cell_type": "markdown",
      "id": "0850d066",
      "metadata": {
        "id": "0850d066"
      },
      "source": [
        "**Dataset Preparation**"
      ]
    },
    {
      "cell_type": "code",
      "execution_count": null,
      "id": "db199af3",
      "metadata": {
        "id": "db199af3"
      },
      "outputs": [],
      "source": [
        "transform = transforms.Compose([\n",
        "    transforms.RandomResizedCrop(image_size, scale=(0.8, 1.0)),  # zoom/crop\n",
        "    transforms.RandomHorizontalFlip(p=0.5),                      # mirror\n",
        "    transforms.ColorJitter(brightness=0.2, contrast=0.2, saturation=0.2),  # lighting\n",
        "    transforms.RandomAffine(degrees=15, translate=(0.05, 0.05)),  # slight rotation & shift\n",
        "    transforms.ToTensor(),\n",
        "    transforms.Normalize([0.485, 0.456, 0.406],\n",
        "                         [0.229, 0.224, 0.225]),\n",
        "])"
      ]
    },
    {
      "cell_type": "code",
      "execution_count": null,
      "id": "5c5fdee2",
      "metadata": {
        "id": "5c5fdee2"
      },
      "outputs": [],
      "source": [
        "dataset = load_dataset(image_dir, class_json, transform)\n",
        "train_dataset = dataset[\"reference\"]\n",
        "query_dataset = dataset[\"query\"]"
      ]
    },
    {
      "cell_type": "markdown",
      "id": "60309e8c",
      "metadata": {
        "id": "60309e8c"
      },
      "source": [
        "## **Model 1: Triplet Loss**"
      ]
    },
    {
      "cell_type": "markdown",
      "id": "3b731ed4",
      "metadata": {
        "id": "3b731ed4"
      },
      "source": [
        "**Setup and Training**"
      ]
    },
    {
      "cell_type": "code",
      "execution_count": null,
      "id": "e12a54a7",
      "metadata": {
        "colab": {
          "base_uri": "https://localhost:8080/"
        },
        "id": "e12a54a7",
        "outputId": "2c7b8e8f-8f33-4da7-98bc-c5dae2e20bc4"
      },
      "outputs": [
        {
          "name": "stderr",
          "output_type": "stream",
          "text": [
            "/usr/local/lib/python3.11/dist-packages/torchvision/models/_utils.py:208: UserWarning: The parameter 'pretrained' is deprecated since 0.13 and may be removed in the future, please use 'weights' instead.\n",
            "  warnings.warn(\n",
            "/usr/local/lib/python3.11/dist-packages/torchvision/models/_utils.py:223: UserWarning: Arguments other than a weight enum or `None` for 'weights' are deprecated since 0.13 and may be removed in the future. The current behavior is equivalent to passing `weights=ResNet50_Weights.IMAGENET1K_V1`. You can also use `weights=ResNet50_Weights.DEFAULT` to get the most up-to-date weights.\n",
            "  warnings.warn(msg)\n"
          ]
        }
      ],
      "source": [
        "model1 = EmbeddingNet().to(device)\n",
        "loss_fn1 = TripletMarginLoss(margin=0.2)\n",
        "miner1 = TripletMarginMiner(margin=0.2, type_of_triplets=\"semihard\")\n",
        "sampler1 = MPerClassSampler(train_dataset.labels, m=4, batch_size=32, length_before_new_iter=len(train_dataset))\n",
        "optimizer = torch.optim.Adam(model1.parameters(), lr=1e-4)"
      ]
    },
    {
      "cell_type": "code",
      "execution_count": null,
      "id": "fb5d8123",
      "metadata": {
        "colab": {
          "base_uri": "https://localhost:8080/"
        },
        "id": "fb5d8123",
        "outputId": "088eb106-cf6b-4c77-bc1e-5d232a213677"
      },
      "outputs": [
        {
          "name": "stdout",
          "output_type": "stream",
          "text": [
            "Training model and saving to /content/drive/MyDrive/projectcv2/resnet50_metric_triplet.pth...\n",
            "Epoch 1, Loss: 0.0869\n",
            "Epoch 2, Loss: 0.0729\n",
            "Epoch 3, Loss: 0.0744\n",
            "Epoch 4, Loss: 0.0742\n",
            "Epoch 5, Loss: 0.0373\n",
            "Epoch 6, Loss: 0.0665\n",
            "Epoch 7, Loss: 0.0474\n",
            "Epoch 8, Loss: 0.0463\n",
            "Epoch 9, Loss: 0.0000\n",
            "Epoch 10, Loss: 0.0337\n"
          ]
        }
      ],
      "source": [
        "model1 = train_or_load_model(\n",
        "    model=model1,\n",
        "    model_path=model_path1,\n",
        "    loss_fn=loss_fn1,\n",
        "    miner=miner1,\n",
        "    sampler=sampler1,\n",
        "    train_dataset=train_dataset,\n",
        "    device=device,\n",
        "    epochs=10\n",
        ")"
      ]
    },
    {
      "cell_type": "markdown",
      "id": "5c9dd219",
      "metadata": {
        "id": "5c9dd219"
      },
      "source": [
        "**Embedding Extraction**"
      ]
    },
    {
      "cell_type": "code",
      "execution_count": null,
      "id": "7c5e5540",
      "metadata": {
        "colab": {
          "base_uri": "https://localhost:8080/"
        },
        "id": "7c5e5540",
        "outputId": "659a6dd4-7a5a-4066-dada-8755f980ebb9"
      },
      "outputs": [
        {
          "name": "stderr",
          "output_type": "stream",
          "text": [
            "Extracting embeddings: 100%|██████████| 1/1 [00:19<00:00, 19.79s/it]\n",
            "Extracting embeddings: 100%|██████████| 3/3 [00:01<00:00,  2.12it/s]\n"
          ]
        }
      ],
      "source": [
        "query_data = extract_embeddings(model1, query_dataset, device=device)\n",
        "ref_data = extract_embeddings(model1, train_dataset, device=device)"
      ]
    },
    {
      "cell_type": "markdown",
      "id": "ccac5efc",
      "metadata": {
        "id": "ccac5efc"
      },
      "source": [
        "**Top-k Retrieval**"
      ]
    },
    {
      "cell_type": "code",
      "execution_count": null,
      "id": "02a57295",
      "metadata": {
        "id": "02a57295"
      },
      "outputs": [],
      "source": [
        "retrieval_result_cos1 = retrieve_top_k(query_data, ref_data, k=1, metric=\"cosine\")\n",
        "retrieval_result_cos5 = retrieve_top_k(query_data, ref_data, k=5, metric=\"cosine\")\n",
        "retrieval_result_cos10 = retrieve_top_k(query_data, ref_data, k=10, metric=\"cosine\")\n",
        "\n",
        "retrieval_result_euc1 = retrieve_top_k(query_data, ref_data, k=1, metric=\"euclidean\")\n",
        "retrieval_result_euc5 = retrieve_top_k(query_data, ref_data, k=5, metric=\"euclidean\")\n",
        "retrieval_result_euc10 = retrieve_top_k(query_data, ref_data, k=10, metric=\"euclidean\")"
      ]
    },
    {
      "cell_type": "markdown",
      "id": "98070e15",
      "metadata": {
        "id": "98070e15"
      },
      "source": [
        "**Evaluation**"
      ]
    },
    {
      "cell_type": "code",
      "execution_count": null,
      "id": "8cb01bef",
      "metadata": {
        "colab": {
          "base_uri": "https://localhost:8080/"
        },
        "id": "8cb01bef",
        "outputId": "5061f207-ec68-4251-d778-648992ebb98a"
      },
      "outputs": [
        {
          "name": "stdout",
          "output_type": "stream",
          "text": [
            "Cosine Similarity\n",
            "Top-1 : {'Precision@1': 0.95, 'Recall@1': 0.95, 'mAP@1': 0.95}\n",
            "Top-5 : {'Precision@5': 0.74, 'Recall@5': 0.95, 'mAP@5': 0.9256}\n",
            "Top-10: {'Precision@10': 0.38, 'Recall@10': 0.95, 'mAP@10': 0.9179}\n",
            "\n",
            "Euclidean Distance\n",
            "Top-1 : {'Precision@1': 0.8, 'Recall@1': 0.8, 'mAP@1': 0.8}\n",
            "Top-5 : {'Precision@5': 0.64, 'Recall@5': 0.9, 'mAP@5': 0.8272}\n",
            "Top-10: {'Precision@10': 0.355, 'Recall@10': 0.95, 'mAP@10': 0.8248}\n"
          ]
        }
      ],
      "source": [
        "metrics_cos1 = evaluate_retrieval(retrieval_result_cos1, k=1)\n",
        "metrics_cos5 = evaluate_retrieval(retrieval_result_cos5, k=5)\n",
        "metrics_cos10 = evaluate_retrieval(retrieval_result_cos10, k=10)\n",
        "\n",
        "metrics_euc1 = evaluate_retrieval(retrieval_result_euc1, k=1)\n",
        "metrics_euc5 = evaluate_retrieval(retrieval_result_euc5, k=5)\n",
        "metrics_euc10 = evaluate_retrieval(retrieval_result_euc10, k=10)\n",
        "\n",
        "print(\"Cosine Similarity\")\n",
        "print(\"Top-1 :\", metrics_cos1)\n",
        "print(\"Top-5 :\", metrics_cos5)\n",
        "print(\"Top-10:\", metrics_cos10)\n",
        "\n",
        "print(\"\\nEuclidean Distance\")\n",
        "print(\"Top-1 :\", metrics_euc1)\n",
        "print(\"Top-5 :\", metrics_euc5)\n",
        "print(\"Top-10:\", metrics_euc10)"
      ]
    },
    {
      "cell_type": "markdown",
      "id": "e1cb8940",
      "metadata": {
        "id": "e1cb8940"
      },
      "source": [
        "## **Model 2: Contrastive Loss**"
      ]
    },
    {
      "cell_type": "markdown",
      "id": "539fff0d",
      "metadata": {
        "id": "539fff0d"
      },
      "source": [
        "**Setup and Training**"
      ]
    },
    {
      "cell_type": "code",
      "execution_count": null,
      "id": "d6712f37",
      "metadata": {
        "id": "d6712f37"
      },
      "outputs": [],
      "source": [
        "model2 = EmbeddingNet().to(device)\n",
        "loss_fn2 = ContrastiveLoss(pos_margin=0, neg_margin=1)\n",
        "miner2 = PairMarginMiner(pos_margin=0, neg_margin=1)\n",
        "sampler2 = MPerClassSampler(train_dataset.labels, m=4, batch_size=32, length_before_new_iter=len(train_dataset))"
      ]
    },
    {
      "cell_type": "code",
      "execution_count": null,
      "id": "e7393c73",
      "metadata": {
        "colab": {
          "base_uri": "https://localhost:8080/"
        },
        "id": "e7393c73",
        "outputId": "0427772a-3fe0-4497-9afc-6375b48a6cff"
      },
      "outputs": [
        {
          "name": "stdout",
          "output_type": "stream",
          "text": [
            "Training model and saving to /content/drive/MyDrive/projectcv2/resnet50_metric_contrastive.pth...\n",
            "Epoch 1, Loss: 0.8827\n",
            "Epoch 2, Loss: 0.8715\n",
            "Epoch 3, Loss: 0.9495\n",
            "Epoch 4, Loss: 0.7813\n",
            "Epoch 5, Loss: 0.6950\n",
            "Epoch 6, Loss: 0.6646\n",
            "Epoch 7, Loss: 0.7083\n",
            "Epoch 8, Loss: 0.6615\n",
            "Epoch 9, Loss: 0.5920\n",
            "Epoch 10, Loss: 0.5729\n"
          ]
        }
      ],
      "source": [
        "model2 = train_or_load_model(\n",
        "    model=model2,\n",
        "    model_path=model_path2,\n",
        "    loss_fn=loss_fn2,\n",
        "    miner=miner2,\n",
        "    sampler=sampler2,\n",
        "    train_dataset=train_dataset,\n",
        "    device=device,\n",
        "    epochs=10\n",
        ")"
      ]
    },
    {
      "cell_type": "markdown",
      "id": "11ec8ca3",
      "metadata": {
        "id": "11ec8ca3"
      },
      "source": [
        "**Embedding Extraction**"
      ]
    },
    {
      "cell_type": "code",
      "execution_count": null,
      "id": "fe399190",
      "metadata": {
        "colab": {
          "base_uri": "https://localhost:8080/"
        },
        "id": "fe399190",
        "outputId": "f51a0df3-b4e9-4313-b307-616fc0eacad7"
      },
      "outputs": [
        {
          "name": "stderr",
          "output_type": "stream",
          "text": [
            "Extracting embeddings: 100%|██████████| 1/1 [00:00<00:00,  3.26it/s]\n",
            "Extracting embeddings: 100%|██████████| 3/3 [00:01<00:00,  2.45it/s]\n"
          ]
        }
      ],
      "source": [
        "query_data = extract_embeddings(model2, query_dataset, device=device)\n",
        "ref_data = extract_embeddings(model2, train_dataset, device=device)"
      ]
    },
    {
      "cell_type": "markdown",
      "id": "d933786c",
      "metadata": {
        "id": "d933786c"
      },
      "source": [
        "**Top-k Retrieval**"
      ]
    },
    {
      "cell_type": "code",
      "execution_count": null,
      "id": "4c81fa42",
      "metadata": {
        "id": "4c81fa42"
      },
      "outputs": [],
      "source": [
        "retrieval_result_cos1 = retrieve_top_k(query_data, ref_data, k=1, metric=\"cosine\")\n",
        "retrieval_result_cos5 = retrieve_top_k(query_data, ref_data, k=5, metric=\"cosine\")\n",
        "retrieval_result_cos10 = retrieve_top_k(query_data, ref_data, k=10, metric=\"cosine\")\n",
        "\n",
        "retrieval_result_euc1 = retrieve_top_k(query_data, ref_data, k=1, metric=\"euclidean\")\n",
        "retrieval_result_euc5 = retrieve_top_k(query_data, ref_data, k=5, metric=\"euclidean\")\n",
        "retrieval_result_euc10 = retrieve_top_k(query_data, ref_data, k=10, metric=\"euclidean\")"
      ]
    },
    {
      "cell_type": "markdown",
      "id": "54edaa7b",
      "metadata": {
        "id": "54edaa7b"
      },
      "source": [
        "**Evaluation**"
      ]
    },
    {
      "cell_type": "code",
      "execution_count": null,
      "id": "ebe1bb65",
      "metadata": {
        "colab": {
          "base_uri": "https://localhost:8080/"
        },
        "id": "ebe1bb65",
        "outputId": "0e916d00-1926-4069-9f36-6c8adeac0918"
      },
      "outputs": [
        {
          "name": "stdout",
          "output_type": "stream",
          "text": [
            "Cosine Similarity\n",
            "Top-1 : {'Precision@1': 0.85, 'Recall@1': 0.85, 'mAP@1': 0.85}\n",
            "Top-5 : {'Precision@5': 0.65, 'Recall@5': 0.9, 'mAP@5': 0.8494}\n",
            "Top-10: {'Precision@10': 0.35, 'Recall@10': 0.9, 'mAP@10': 0.8262}\n",
            "\n",
            "Euclidean Distance\n",
            "Top-1 : {'Precision@1': 0.8, 'Recall@1': 0.8, 'mAP@1': 0.8}\n",
            "Top-5 : {'Precision@5': 0.64, 'Recall@5': 0.85, 'mAP@5': 0.8061}\n",
            "Top-10: {'Precision@10': 0.34, 'Recall@10': 0.9, 'mAP@10': 0.818}\n"
          ]
        }
      ],
      "source": [
        "metrics_cos1 = evaluate_retrieval(retrieval_result_cos1, k=1)\n",
        "metrics_cos5 = evaluate_retrieval(retrieval_result_cos5, k=5)\n",
        "metrics_cos10 = evaluate_retrieval(retrieval_result_cos10, k=10)\n",
        "\n",
        "metrics_euc1 = evaluate_retrieval(retrieval_result_euc1, k=1)\n",
        "metrics_euc5 = evaluate_retrieval(retrieval_result_euc5, k=5)\n",
        "metrics_euc10 = evaluate_retrieval(retrieval_result_euc10, k=10)\n",
        "\n",
        "print(\"Cosine Similarity\")\n",
        "print(\"Top-1 :\", metrics_cos1)\n",
        "print(\"Top-5 :\", metrics_cos5)\n",
        "print(\"Top-10:\", metrics_cos10)\n",
        "\n",
        "print(\"\\nEuclidean Distance\")\n",
        "print(\"Top-1 :\", metrics_euc1)\n",
        "print(\"Top-5 :\", metrics_euc5)\n",
        "print(\"Top-10:\", metrics_euc10)"
      ]
    }
  ],
  "metadata": {
    "accelerator": "GPU",
    "colab": {
      "gpuType": "T4",
      "provenance": []
    },
    "kernelspec": {
      "display_name": "cv2",
      "language": "python",
      "name": "python3"
    },
    "language_info": {
      "name": "python",
      "version": "3.12.2"
    }
  },
  "nbformat": 4,
  "nbformat_minor": 5
}
